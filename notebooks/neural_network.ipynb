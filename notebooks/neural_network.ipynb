{
 "cells": [
  {
   "cell_type": "code",
   "execution_count": 1071,
   "metadata": {},
   "outputs": [],
   "source": [
    "import yfinance as yf\n",
    "import pandas as pd\n",
    "import numpy as np\n",
    "from sklearn.preprocessing import MinMaxScaler\n",
    "import tensorflow as tf\n",
    "from tensorflow.keras.models import Sequential\n",
    "from tensorflow.keras.layers import LSTM, Dense, Dropout\n",
    "from sklearn.model_selection import train_test_split\n",
    "import matplotlib.pyplot as plt\n",
    "import warnings\n",
    "warnings.filterwarnings('ignore')\n"
   ]
  },
  {
   "cell_type": "code",
   "execution_count": 1072,
   "metadata": {},
   "outputs": [
    {
     "name": "stderr",
     "output_type": "stream",
     "text": [
      "[*********************100%***********************]  1 of 1 completed\n"
     ]
    }
   ],
   "source": [
    "ticker = 'PETR4.SA'\n",
    "df = yf.download(ticker, start=\"2023-01-01\", end=\"2024-01-01\")"
   ]
  },
  {
   "cell_type": "code",
   "execution_count": 1073,
   "metadata": {},
   "outputs": [
    {
     "data": {
      "text/html": [
       "<div>\n",
       "<style scoped>\n",
       "    .dataframe tbody tr th:only-of-type {\n",
       "        vertical-align: middle;\n",
       "    }\n",
       "\n",
       "    .dataframe tbody tr th {\n",
       "        vertical-align: top;\n",
       "    }\n",
       "\n",
       "    .dataframe thead tr th {\n",
       "        text-align: left;\n",
       "    }\n",
       "\n",
       "    .dataframe thead tr:last-of-type th {\n",
       "        text-align: right;\n",
       "    }\n",
       "</style>\n",
       "<table border=\"1\" class=\"dataframe\">\n",
       "  <thead>\n",
       "    <tr>\n",
       "      <th>Price</th>\n",
       "      <th>Close</th>\n",
       "      <th>High</th>\n",
       "      <th>Low</th>\n",
       "      <th>Open</th>\n",
       "      <th>Volume</th>\n",
       "    </tr>\n",
       "    <tr>\n",
       "      <th>Ticker</th>\n",
       "      <th>PETR4.SA</th>\n",
       "      <th>PETR4.SA</th>\n",
       "      <th>PETR4.SA</th>\n",
       "      <th>PETR4.SA</th>\n",
       "      <th>PETR4.SA</th>\n",
       "    </tr>\n",
       "    <tr>\n",
       "      <th>Date</th>\n",
       "      <th></th>\n",
       "      <th></th>\n",
       "      <th></th>\n",
       "      <th></th>\n",
       "      <th></th>\n",
       "    </tr>\n",
       "  </thead>\n",
       "  <tbody>\n",
       "    <tr>\n",
       "      <th>2023-01-02</th>\n",
       "      <td>14.456955</td>\n",
       "      <td>15.018328</td>\n",
       "      <td>14.381264</td>\n",
       "      <td>14.848025</td>\n",
       "      <td>78424700</td>\n",
       "    </tr>\n",
       "    <tr>\n",
       "      <th>2023-01-03</th>\n",
       "      <td>14.091116</td>\n",
       "      <td>14.570492</td>\n",
       "      <td>13.958656</td>\n",
       "      <td>14.469571</td>\n",
       "      <td>96750300</td>\n",
       "    </tr>\n",
       "    <tr>\n",
       "      <th>2023-01-04</th>\n",
       "      <td>14.538951</td>\n",
       "      <td>14.879560</td>\n",
       "      <td>13.769428</td>\n",
       "      <td>13.851426</td>\n",
       "      <td>129504000</td>\n",
       "    </tr>\n",
       "    <tr>\n",
       "      <th>2023-01-05</th>\n",
       "      <td>15.062480</td>\n",
       "      <td>15.163402</td>\n",
       "      <td>14.602028</td>\n",
       "      <td>14.721872</td>\n",
       "      <td>73886000</td>\n",
       "    </tr>\n",
       "    <tr>\n",
       "      <th>2023-01-06</th>\n",
       "      <td>14.974175</td>\n",
       "      <td>15.340015</td>\n",
       "      <td>14.854331</td>\n",
       "      <td>15.100327</td>\n",
       "      <td>51851500</td>\n",
       "    </tr>\n",
       "  </tbody>\n",
       "</table>\n",
       "</div>"
      ],
      "text/plain": [
       "Price           Close       High        Low       Open     Volume\n",
       "Ticker       PETR4.SA   PETR4.SA   PETR4.SA   PETR4.SA   PETR4.SA\n",
       "Date                                                             \n",
       "2023-01-02  14.456955  15.018328  14.381264  14.848025   78424700\n",
       "2023-01-03  14.091116  14.570492  13.958656  14.469571   96750300\n",
       "2023-01-04  14.538951  14.879560  13.769428  13.851426  129504000\n",
       "2023-01-05  15.062480  15.163402  14.602028  14.721872   73886000\n",
       "2023-01-06  14.974175  15.340015  14.854331  15.100327   51851500"
      ]
     },
     "execution_count": 1073,
     "metadata": {},
     "output_type": "execute_result"
    }
   ],
   "source": [
    "df.head()"
   ]
  },
  {
   "cell_type": "markdown",
   "metadata": {},
   "source": [
    "### Tratamento"
   ]
  },
  {
   "cell_type": "code",
   "execution_count": 1074,
   "metadata": {},
   "outputs": [],
   "source": [
    "df.columns = [col[1] for col in df.columns]"
   ]
  },
  {
   "cell_type": "code",
   "execution_count": 1075,
   "metadata": {},
   "outputs": [
    {
     "data": {
      "text/plain": [
       "'PETR4.SA'"
      ]
     },
     "execution_count": 1075,
     "metadata": {},
     "output_type": "execute_result"
    }
   ],
   "source": [
    "df.columns.values[0]"
   ]
  },
  {
   "cell_type": "code",
   "execution_count": 1076,
   "metadata": {},
   "outputs": [],
   "source": [
    "df.columns.values[0] = 'Close'\n",
    "df.columns.values[1] = 'High'\n",
    "df.columns.values[2] = 'Low' \n",
    "df.columns.values[3] = 'Open'  \n",
    "df.columns.values[4] = 'Volume'"
   ]
  },
  {
   "cell_type": "code",
   "execution_count": 1077,
   "metadata": {},
   "outputs": [
    {
     "data": {
      "text/plain": [
       "Index(['Close', 'High', 'Low', 'Open', 'Volume'], dtype='object')"
      ]
     },
     "execution_count": 1077,
     "metadata": {},
     "output_type": "execute_result"
    }
   ],
   "source": [
    "df.columns"
   ]
  },
  {
   "cell_type": "code",
   "execution_count": 1078,
   "metadata": {},
   "outputs": [
    {
     "data": {
      "text/html": [
       "<div>\n",
       "<style scoped>\n",
       "    .dataframe tbody tr th:only-of-type {\n",
       "        vertical-align: middle;\n",
       "    }\n",
       "\n",
       "    .dataframe tbody tr th {\n",
       "        vertical-align: top;\n",
       "    }\n",
       "\n",
       "    .dataframe thead th {\n",
       "        text-align: right;\n",
       "    }\n",
       "</style>\n",
       "<table border=\"1\" class=\"dataframe\">\n",
       "  <thead>\n",
       "    <tr style=\"text-align: right;\">\n",
       "      <th></th>\n",
       "      <th>Date</th>\n",
       "      <th>Close</th>\n",
       "      <th>High</th>\n",
       "      <th>Low</th>\n",
       "      <th>Open</th>\n",
       "      <th>Volume</th>\n",
       "    </tr>\n",
       "  </thead>\n",
       "  <tbody>\n",
       "    <tr>\n",
       "      <th>0</th>\n",
       "      <td>2023-01-02</td>\n",
       "      <td>14.456955</td>\n",
       "      <td>15.018328</td>\n",
       "      <td>14.381264</td>\n",
       "      <td>14.848025</td>\n",
       "      <td>78424700</td>\n",
       "    </tr>\n",
       "    <tr>\n",
       "      <th>1</th>\n",
       "      <td>2023-01-03</td>\n",
       "      <td>14.091116</td>\n",
       "      <td>14.570492</td>\n",
       "      <td>13.958656</td>\n",
       "      <td>14.469571</td>\n",
       "      <td>96750300</td>\n",
       "    </tr>\n",
       "    <tr>\n",
       "      <th>2</th>\n",
       "      <td>2023-01-04</td>\n",
       "      <td>14.538951</td>\n",
       "      <td>14.879560</td>\n",
       "      <td>13.769428</td>\n",
       "      <td>13.851426</td>\n",
       "      <td>129504000</td>\n",
       "    </tr>\n",
       "    <tr>\n",
       "      <th>3</th>\n",
       "      <td>2023-01-05</td>\n",
       "      <td>15.062480</td>\n",
       "      <td>15.163402</td>\n",
       "      <td>14.602028</td>\n",
       "      <td>14.721872</td>\n",
       "      <td>73886000</td>\n",
       "    </tr>\n",
       "    <tr>\n",
       "      <th>4</th>\n",
       "      <td>2023-01-06</td>\n",
       "      <td>14.974175</td>\n",
       "      <td>15.340015</td>\n",
       "      <td>14.854331</td>\n",
       "      <td>15.100327</td>\n",
       "      <td>51851500</td>\n",
       "    </tr>\n",
       "    <tr>\n",
       "      <th>...</th>\n",
       "      <td>...</td>\n",
       "      <td>...</td>\n",
       "      <td>...</td>\n",
       "      <td>...</td>\n",
       "      <td>...</td>\n",
       "      <td>...</td>\n",
       "    </tr>\n",
       "    <tr>\n",
       "      <th>243</th>\n",
       "      <td>2023-12-21</td>\n",
       "      <td>29.720167</td>\n",
       "      <td>29.957015</td>\n",
       "      <td>29.458819</td>\n",
       "      <td>29.948846</td>\n",
       "      <td>30511900</td>\n",
       "    </tr>\n",
       "    <tr>\n",
       "      <th>244</th>\n",
       "      <td>2023-12-22</td>\n",
       "      <td>30.006023</td>\n",
       "      <td>30.055024</td>\n",
       "      <td>29.703837</td>\n",
       "      <td>29.810011</td>\n",
       "      <td>31234700</td>\n",
       "    </tr>\n",
       "    <tr>\n",
       "      <th>245</th>\n",
       "      <td>2023-12-26</td>\n",
       "      <td>30.487881</td>\n",
       "      <td>30.520547</td>\n",
       "      <td>30.079524</td>\n",
       "      <td>30.104025</td>\n",
       "      <td>23466800</td>\n",
       "    </tr>\n",
       "    <tr>\n",
       "      <th>246</th>\n",
       "      <td>2023-12-27</td>\n",
       "      <td>30.512384</td>\n",
       "      <td>30.569554</td>\n",
       "      <td>30.324541</td>\n",
       "      <td>30.479715</td>\n",
       "      <td>19588500</td>\n",
       "    </tr>\n",
       "    <tr>\n",
       "      <th>247</th>\n",
       "      <td>2023-12-28</td>\n",
       "      <td>30.414377</td>\n",
       "      <td>30.512382</td>\n",
       "      <td>30.251034</td>\n",
       "      <td>30.406208</td>\n",
       "      <td>21421900</td>\n",
       "    </tr>\n",
       "  </tbody>\n",
       "</table>\n",
       "<p>248 rows × 6 columns</p>\n",
       "</div>"
      ],
      "text/plain": [
       "          Date      Close       High        Low       Open     Volume\n",
       "0   2023-01-02  14.456955  15.018328  14.381264  14.848025   78424700\n",
       "1   2023-01-03  14.091116  14.570492  13.958656  14.469571   96750300\n",
       "2   2023-01-04  14.538951  14.879560  13.769428  13.851426  129504000\n",
       "3   2023-01-05  15.062480  15.163402  14.602028  14.721872   73886000\n",
       "4   2023-01-06  14.974175  15.340015  14.854331  15.100327   51851500\n",
       "..         ...        ...        ...        ...        ...        ...\n",
       "243 2023-12-21  29.720167  29.957015  29.458819  29.948846   30511900\n",
       "244 2023-12-22  30.006023  30.055024  29.703837  29.810011   31234700\n",
       "245 2023-12-26  30.487881  30.520547  30.079524  30.104025   23466800\n",
       "246 2023-12-27  30.512384  30.569554  30.324541  30.479715   19588500\n",
       "247 2023-12-28  30.414377  30.512382  30.251034  30.406208   21421900\n",
       "\n",
       "[248 rows x 6 columns]"
      ]
     },
     "execution_count": 1078,
     "metadata": {},
     "output_type": "execute_result"
    }
   ],
   "source": [
    "df = df.reset_index()"
   ]
  },
  {
   "cell_type": "code",
   "execution_count": null,
   "metadata": {},
   "outputs": [],
   "source": [
    "df"
   ]
  }
 ],
 "metadata": {
  "kernelspec": {
   "display_name": ".venv",
   "language": "python",
   "name": "python3"
  },
  "language_info": {
   "codemirror_mode": {
    "name": "ipython",
    "version": 3
   },
   "file_extension": ".py",
   "mimetype": "text/x-python",
   "name": "python",
   "nbconvert_exporter": "python",
   "pygments_lexer": "ipython3",
   "version": "3.10.12"
  }
 },
 "nbformat": 4,
 "nbformat_minor": 2
}
